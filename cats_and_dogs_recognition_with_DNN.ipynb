{
  "cells": [
    {
      "cell_type": "markdown",
      "metadata": {
        "id": "view-in-github",
        "colab_type": "text"
      },
      "source": [
        "<a href=\"https://colab.research.google.com/github/tej37/deep-neuron-network-cats-and-dog-classification/blob/main/cats_and_dogs_recognition_with_DNN.ipynb\" target=\"_parent\"><img src=\"https://colab.research.google.com/assets/colab-badge.svg\" alt=\"Open In Colab\"/></a>"
      ]
    },
    {
      "cell_type": "markdown",
      "metadata": {
        "id": "3twheFzlLdBn"
      },
      "source": [
        "# deep neuron network from scratch\n"
      ]
    },
    {
      "cell_type": "code",
      "source": [
        "!pip install --user dnn_utils"
      ],
      "metadata": {
        "colab": {
          "base_uri": "https://localhost:8080/"
        },
        "id": "4Oy_BJo7jWfs",
        "outputId": "aa306f69-f3ad-4d08-a5ce-41b55e5117cf"
      },
      "execution_count": null,
      "outputs": [
        {
          "output_type": "stream",
          "name": "stdout",
          "text": [
            "\u001b[31mERROR: Could not find a version that satisfies the requirement dnn_utils (from versions: none)\u001b[0m\u001b[31m\n",
            "\u001b[0m\u001b[31mERROR: No matching distribution found for dnn_utils\u001b[0m\u001b[31m\n",
            "\u001b[0m"
          ]
        }
      ]
    },
    {
      "cell_type": "code",
      "execution_count": null,
      "metadata": {
        "id": "YESLiVQdLuiP",
        "colab": {
          "base_uri": "https://localhost:8080/",
          "height": 349
        },
        "outputId": "36a7c69c-7384-473d-ba68-d518d3103076"
      },
      "outputs": [
        {
          "output_type": "error",
          "ename": "ModuleNotFoundError",
          "evalue": "No module named 'dnn_utils'",
          "traceback": [
            "\u001b[0;31m---------------------------------------------------------------------------\u001b[0m",
            "\u001b[0;31mModuleNotFoundError\u001b[0m                       Traceback (most recent call last)",
            "\u001b[0;32m<ipython-input-17-8a7d3bfab3d7>\u001b[0m in \u001b[0;36m<cell line: 6>\u001b[0;34m()\u001b[0m\n\u001b[1;32m      4\u001b[0m \u001b[0;32mfrom\u001b[0m \u001b[0msklearn\u001b[0m\u001b[0;34m.\u001b[0m\u001b[0mmetrics\u001b[0m \u001b[0;32mimport\u001b[0m \u001b[0maccuracy_score\u001b[0m\u001b[0;34m,\u001b[0m \u001b[0mlog_loss\u001b[0m\u001b[0;34m\u001b[0m\u001b[0;34m\u001b[0m\u001b[0m\n\u001b[1;32m      5\u001b[0m \u001b[0;32mfrom\u001b[0m \u001b[0mtqdm\u001b[0m \u001b[0;32mimport\u001b[0m \u001b[0mtqdm\u001b[0m\u001b[0;34m\u001b[0m\u001b[0;34m\u001b[0m\u001b[0m\n\u001b[0;32m----> 6\u001b[0;31m \u001b[0;32mfrom\u001b[0m \u001b[0mdnn_utils\u001b[0m \u001b[0;32mimport\u001b[0m \u001b[0msigmoid\u001b[0m\u001b[0;34m,\u001b[0m \u001b[0msigmoid_backward\u001b[0m\u001b[0;34m,\u001b[0m \u001b[0mrelu\u001b[0m\u001b[0;34m,\u001b[0m \u001b[0mrelu_backward\u001b[0m\u001b[0;34m\u001b[0m\u001b[0;34m\u001b[0m\u001b[0m\n\u001b[0m",
            "\u001b[0;31mModuleNotFoundError\u001b[0m: No module named 'dnn_utils'",
            "",
            "\u001b[0;31m---------------------------------------------------------------------------\u001b[0;32m\nNOTE: If your import is failing due to a missing package, you can\nmanually install dependencies using either !pip or !apt.\n\nTo view examples of installing some common dependencies, click the\n\"Open Examples\" button below.\n\u001b[0;31m---------------------------------------------------------------------------\u001b[0m\n"
          ],
          "errorDetails": {
            "actions": [
              {
                "action": "open_url",
                "actionText": "Open Examples",
                "url": "/notebooks/snippets/importing_libraries.ipynb"
              }
            ]
          }
        }
      ],
      "source": [
        "import numpy as np\n",
        "import matplotlib.pyplot as plt\n",
        "from sklearn.datasets import make_blobs, make_circles\n",
        "from sklearn.metrics import accuracy_score, log_loss\n",
        "from tqdm import tqdm\n",
        "from dnn_utils import sigmoid, sigmoid_backward, relu, relu_backward"
      ]
    },
    {
      "cell_type": "code",
      "execution_count": null,
      "metadata": {
        "id": "iHfzlVa4pXvm"
      },
      "outputs": [],
      "source": []
    },
    {
      "cell_type": "code",
      "source": [
        "def relu(Z):\n",
        "    \"\"\"\n",
        "    Compute the ReLU of Z\n",
        "\n",
        "    Arguments:\n",
        "    Z -- A scalar or numpy array of any size.\n",
        "\n",
        "    Return:\n",
        "    A -- ReLU(Z)\n",
        "    cache -- Z, stored for computing the backward pass efficiently\n",
        "    \"\"\"\n",
        "    A = np.maximum(0, Z)\n",
        "     # Cache the input value, which is needed for the backward pass\n",
        "    return A"
      ],
      "metadata": {
        "id": "SzXMfsuZlB_9"
      },
      "execution_count": null,
      "outputs": []
    },
    {
      "cell_type": "code",
      "execution_count": null,
      "metadata": {
        "id": "Fp9fsfQvpj1X"
      },
      "outputs": [],
      "source": [
        "def sigmoid(z):\n",
        "  \"\"\"\n",
        "  This function calculates the sigmoid of an array of input values.\n",
        "\n",
        "  Args:\n",
        "    x: The input array.\n",
        "\n",
        "  Returns:\n",
        "    The sigmoid of each element in x.\n",
        "  \"\"\"\n",
        "  return 1 / (1 + np.exp(-z))\n",
        "\n",
        "# Example usage\n",
        "#X = np.array([0, 0.5, 1.0])\n",
        "#y = sigmoid(X)\n",
        "#print(y)  # Output: [ 0.52499995  0.62275225  0.73105858]\n"
      ]
    },
    {
      "cell_type": "code",
      "execution_count": null,
      "metadata": {
        "id": "3Lnsey1Apxaq"
      },
      "outputs": [],
      "source": [
        "def log_loss(y_true, y_pred):\n",
        "  \"\"\"\n",
        "  This function calculates the log loss between true labels and predicted probabilities.\n",
        "\n",
        "  Args:\n",
        "    y_true: The true labels, as a numpy array of 0s and 1s.\n",
        "    y_pred: The predicted probabilities, as a numpy array between 0 and 1.\n",
        "\n",
        "  Returns:\n",
        "    The log loss value.\n",
        "  \"\"\"\n",
        "  # Clip y_pred to avoid log(0) errors\n",
        "  y_pred = np.clip(y_pred, 1e-15, 1 - 1e-15)\n",
        "\n",
        "  # Calculate log loss\n",
        "  loss = -np.mean(y_true * np.log(y_pred) + (1 - y_true) * np.log(1 - y_pred))\n",
        "  #loss= 1/len(y_true) * np.sum(-y_true * np.log(y_pred) - (1 - y_true) * np.log(1 -y_pred))\n",
        "  return loss\n",
        "\n",
        "# Example usage\n",
        "#y_true = np.array([1, 0, 1])\n",
        "#y_pred = np.array([0.8, 0.2, 0.7])\n",
        "#loss = log_loss(y_true, y_pred)\n",
        "#print(loss)  # Output: 0.20273296178714374\n"
      ]
    },
    {
      "cell_type": "code",
      "execution_count": null,
      "metadata": {
        "id": "nl5wKwThLhLI"
      },
      "outputs": [],
      "source": [
        "def initialisation(dimensions):\n",
        "\n",
        "    parametres = {}\n",
        "    C = len(dimensions)\n",
        "\n",
        "    np.random.seed(1)\n",
        "\n",
        "    for c in range(1, C):\n",
        "        parametres['W' + str(c)] = np.random.randn(dimensions[c], dimensions[c - 1])\n",
        "        parametres['b' + str(c)] = np.random.randn(dimensions[c], 1)\n",
        "\n",
        "    return parametres"
      ]
    },
    {
      "cell_type": "code",
      "execution_count": null,
      "metadata": {
        "colab": {
          "base_uri": "https://localhost:8080/"
        },
        "id": "1iLstgQWL2Hn",
        "outputId": "3b45a7eb-4ce0-4193-a409-251fbcb69ddf"
      },
      "outputs": [
        {
          "output_type": "stream",
          "name": "stdout",
          "text": [
            "W1 (32, 2)\n",
            "b1 (32, 1)\n",
            "W2 (30, 32)\n",
            "b2 (30, 1)\n",
            "W3 (1, 30)\n",
            "b3 (1, 1)\n"
          ]
        }
      ],
      "source": [
        "param=initialisation([2,32,30,1])\n",
        "for key,val in param.items():\n",
        "  print(key,val.shape)"
      ]
    },
    {
      "cell_type": "code",
      "execution_count": null,
      "metadata": {
        "id": "mcYElk4xhqRN"
      },
      "outputs": [],
      "source": [
        "def forward_propagation(X, parametres):\n",
        "\n",
        "  activations = {'A0': X}\n",
        "\n",
        "  C = len(parametres) // 2\n",
        "\n",
        "  for c in range(1, C + 1):\n",
        "    Z = parametres['W' + str(c)].dot(activations['A' + str(c - 1)]) + parametres['b' + str(c)]\n",
        "    if ('A' + str(c) =='A'+str(C)):\n",
        "     activations['A' + str(c)] = sigmoid(Z)\n",
        "    else:\n",
        "     activations['A' + str(c)] =np.maximum(0, Z)\n",
        "\n",
        "  return activations"
      ]
    },
    {
      "cell_type": "code",
      "execution_count": null,
      "metadata": {
        "colab": {
          "base_uri": "https://localhost:8080/"
        },
        "id": "WD2rC168esZA",
        "outputId": "aab4d516-c5fd-484c-b363-c7d5eb48ec6e"
      },
      "outputs": [
        {
          "output_type": "stream",
          "name": "stdout",
          "text": [
            "A0 (2, 100)\n",
            "A1 (32, 100)\n",
            "A2 (30, 100)\n",
            "A3 (1, 100)\n"
          ]
        }
      ],
      "source": [
        "activ=forward_propagation(X,param)\n",
        "for key,val in activ.items():\n",
        "  print(key,val.shape)"
      ]
    },
    {
      "cell_type": "code",
      "execution_count": null,
      "metadata": {
        "id": "4u-NuNjUgg8E"
      },
      "outputs": [],
      "source": [
        "def back_propagation(y, parametres, activations):\n",
        "\n",
        "  m = y.shape[1]\n",
        "  C = len(parametres) // 2\n",
        "\n",
        "  dZ = activations['A' + str(C)] - y\n",
        "  gradients = {}\n",
        "\n",
        "  for c in reversed(range(1, C + 1)):\n",
        "    gradients['dW' + str(c)] = 1/m * np.dot(dZ, activations['A' + str(c - 1)].T)\n",
        "    gradients['db' + str(c)] = 1/m * np.sum(dZ, axis=1, keepdims=True)\n",
        "    if c > 1:\n",
        "      dZ = np.dot(parametres['W' + str(c)].T, dZ) * activations['A' + str(c - 1)] * (1 - activations['A' + str(c - 1)])\n",
        "\n",
        "  return gradients"
      ]
    },
    {
      "cell_type": "code",
      "execution_count": null,
      "metadata": {
        "colab": {
          "base_uri": "https://localhost:8080/"
        },
        "id": "r46LqCAvivSb",
        "outputId": "eea7fc18-7065-4b86-9844-decc48eaa3d3"
      },
      "outputs": [
        {
          "output_type": "stream",
          "name": "stdout",
          "text": [
            "dW3 (1, 30)\n",
            "db3 (1, 1)\n",
            "dW2 (30, 32)\n",
            "db2 (30, 1)\n",
            "dW1 (32, 2)\n",
            "db1 (32, 1)\n"
          ]
        }
      ],
      "source": [
        "g=back_propagation(y,param,activ)\n",
        "for key,val in g.items():\n",
        "  print(key,val.shape)\n"
      ]
    },
    {
      "cell_type": "code",
      "execution_count": null,
      "metadata": {
        "id": "0_ZTRfSQjOPI"
      },
      "outputs": [],
      "source": [
        "def update(gradients, parametres, learning_rate):\n",
        "\n",
        "    C = len(parametres) // 2\n",
        "\n",
        "    for c in range(1, C + 1):\n",
        "        parametres['W' + str(c)] = parametres['W' + str(c)] - learning_rate * gradients['dW' + str(c)]\n",
        "        parametres['b' + str(c)] = parametres['b' + str(c)] - learning_rate * gradients['db' + str(c)]\n",
        "\n",
        "    return parametres"
      ]
    },
    {
      "cell_type": "code",
      "execution_count": null,
      "metadata": {
        "id": "2YoCLaPjjhOv"
      },
      "outputs": [],
      "source": [
        "def predict(X, parametres):\n",
        "  activations = forward_propagation(X, parametres)\n",
        "  C = len(parametres) // 2\n",
        "  Af = activations['A' + str(C)]\n",
        "  return Af >= 0.5"
      ]
    },
    {
      "cell_type": "code",
      "execution_count": null,
      "metadata": {
        "id": "xO7nAKJYjisy"
      },
      "outputs": [],
      "source": [
        "def deep_neural_network(X, y,X_test,y_test, hidden_layers = (16, 16, 16), learning_rate = 0.001, n_iter = 3000):\n",
        "\n",
        "    # initialisation parametres\n",
        "    dimensions = list(hidden_layers)\n",
        "    dimensions.insert(0, X.shape[0])\n",
        "    dimensions.append(y.shape[0])\n",
        "    print(dimensions)\n",
        "    np.random.seed(1)\n",
        "    parametres = initialisation(dimensions)\n",
        "\n",
        "    # tableau numpy contenant les futures accuracy et log_loss\n",
        "    training_history = np.zeros((int(n_iter), 4))\n",
        "\n",
        "    C = len(parametres) // 2\n",
        "\n",
        "    # gradient descent\n",
        "    for i in tqdm(range(n_iter)):\n",
        "\n",
        "        activations = forward_propagation(X, parametres)\n",
        "        act_test=forward_propagation(X_test, parametres)\n",
        "        gradients = back_propagation(y, parametres, activations)\n",
        "        parametres = update(gradients, parametres, learning_rate)\n",
        "        Af = activations['A' + str(C)]\n",
        "        Af_test=act_test['A' + str(C)]\n",
        "        # calcul du log_loss et de l'accuracy\n",
        "        training_history[i, 0] = (log_loss(y.flatten(), Af.flatten()))\n",
        "        training_history[i, 2] = (log_loss(y_test.flatten(), Af_test.flatten()))\n",
        "        y_pred = predict(X, parametres)\n",
        "        y_pred_test= predict(X_test, parametres)\n",
        "        training_history[i, 1] = (accuracy_score(y.flatten(), y_pred.flatten()))\n",
        "        training_history[i, 3] = (accuracy_score(y_test.flatten(), y_pred_test.flatten()))\n",
        "    # Plot courbe d'apprentissage\n",
        "    plt.figure(figsize=(12, 4))\n",
        "    plt.subplot(1, 2, 1)\n",
        "    plt.plot(training_history[:, 0], label='train loss')\n",
        "    plt.plot(training_history[:, 2], label='test loss')\n",
        "    plt.legend()\n",
        "    plt.subplot(1, 2, 2)\n",
        "    plt.plot(training_history[:, 1], label='train acc')\n",
        "    plt.plot(training_history[:, 3], label='test acc')\n",
        "    plt.legend()\n",
        "    plt.show()\n",
        "\n",
        "    return training_history,parametres"
      ]
    },
    {
      "cell_type": "code",
      "execution_count": null,
      "metadata": {
        "colab": {
          "base_uri": "https://localhost:8080/",
          "height": 465
        },
        "id": "CuCCodSxkGLF",
        "outputId": "71861961-c06f-469e-b5a0-017de5336dd1"
      },
      "outputs": [
        {
          "output_type": "stream",
          "name": "stdout",
          "text": [
            "dimensions de X: (2, 100)\n",
            "dimensions de y: (1, 100)\n"
          ]
        },
        {
          "output_type": "display_data",
          "data": {
            "text/plain": [
              "<Figure size 640x480 with 1 Axes>"
            ],
            "image/png": "[encoded data removed]"
          },
          "metadata": {}
        }
      ],
      "source": [
        "X, y = make_circles(n_samples=100, noise=0.1, factor=0.3, random_state=0)\n",
        "X = X.T\n",
        "y = y.reshape((1, y.shape[0]))\n",
        "\n",
        "print('dimensions de X:', X.shape)\n",
        "print('dimensions de y:', y.shape)\n",
        "\n",
        "plt.scatter(X[0, :], X[1, :], c=y, cmap='summer')\n",
        "plt.show()"
      ]
    },
    {
      "cell_type": "code",
      "execution_count": null,
      "metadata": {
        "colab": {
          "background_save": true,
          "base_uri": "https://localhost:8080/",
          "height": 403
        },
        "id": "3f_-XdCAn-p8",
        "outputId": "b50355f2-b568-4df0-8694-74a9a4308917"
      },
      "outputs": [
        {
          "name": "stdout",
          "output_type": "stream",
          "text": [
            "[2, 2, 16, 16, 1, 1]\n"
          ]
        },
        {
          "name": "stderr",
          "output_type": "stream",
          "text": [
            "100%|██████████| 3000/3000 [00:04<00:00, 710.00it/s]\n"
          ]
        },
        {
          "data": {
            "image/png": "[encoded data removed]",
            "text/plain": [
              "<Figure size 1200x400 with 2 Axes>"
            ]
          },
          "metadata": {},
          "output_type": "display_data"
        }
      ],
      "source": [
        "h,p=deep_neural_network(X, y,X,y,hidden_layers = (2,16, 16,1), learning_rate = 0.1, n_iter = 3000)"
      ]
    },
    {
      "cell_type": "code",
      "execution_count": null,
      "metadata": {
        "colab": {
          "base_uri": "https://localhost:8080/"
        },
        "id": "VISOuq3LPSXF",
        "outputId": "bd565657-3420-495e-8d03-570ea9c085a7"
      },
      "outputs": [
        {
          "output_type": "stream",
          "name": "stdout",
          "text": [
            "Mounted at /content/drive\n"
          ]
        }
      ],
      "source": [
        "from google.colab import drive\n",
        "drive.mount('/content/drive')\n"
      ]
    },
    {
      "cell_type": "code",
      "execution_count": null,
      "metadata": {
        "id": "m0hAK3eYPV-s"
      },
      "outputs": [],
      "source": [
        "import numpy as np\n",
        "import matplotlib.pyplot as plt\n",
        "import h5py\n",
        "import scipy\n",
        "from PIL import Image\n",
        "from scipy import ndimage\n",
        "import os\n",
        "from PIL import Image\n",
        "\n",
        "%matplotlib inline"
      ]
    },
    {
      "cell_type": "code",
      "execution_count": null,
      "metadata": {
        "id": "AF8aGt96N0IK"
      },
      "outputs": [],
      "source": [
        "def load_dataset(folder_path):\n",
        "    def load_images_and_labels(subfolder_name):\n",
        "        subfolder_path = os.path.join(folder_path, subfolder_name)\n",
        "        images = []\n",
        "        labels = []\n",
        "\n",
        "        for filename in os.listdir(subfolder_path):\n",
        "            if filename.endswith('.jpg'):  # Adjust the file extension based on your dataset\n",
        "                label = int(filename.startswith('1'))\n",
        "                labels.append(label)\n",
        "\n",
        "                image_path = os.path.join(subfolder_path, filename)\n",
        "                image = Image.open(image_path)\n",
        "                image_array = np.asarray(image)\n",
        "                images.append(image_array)\n",
        "\n",
        "        return np.array(images), np.array(labels)\n",
        "\n",
        "    train_set_x_orig, train_set_y = load_images_and_labels('train')\n",
        "    test_set_x_orig, test_set_y = load_images_and_labels('test')\n",
        "\n",
        "    # Reshape the label arrays to shape (1, number_of_examples)\n",
        "\n",
        "\n",
        "    classes = np.array(['not cat', 'cat'])\n",
        "\n",
        "    return train_set_x_orig, train_set_y, test_set_x_orig, test_set_y, classes\n",
        "\n",
        "\n"
      ]
    },
    {
      "cell_type": "code",
      "execution_count": null,
      "metadata": {
        "id": "7jSU9OJmOxiM"
      },
      "outputs": [],
      "source": [
        "train_set_x_orig, train_set_y, test_set_x_orig, test_set_y, classes = load_dataset(\"/content/drive/MyDrive/Data\")"
      ]
    },
    {
      "cell_type": "code",
      "execution_count": null,
      "metadata": {
        "colab": {
          "base_uri": "https://localhost:8080/",
          "height": 449
        },
        "id": "FADFCygwPZZl",
        "outputId": "2d4e63a9-9f20-4603-d978-5f19e78cd4b2"
      },
      "outputs": [
        {
          "output_type": "stream",
          "name": "stdout",
          "text": [
            "y = [1], it's a 'cat' picture.\n"
          ]
        },
        {
          "output_type": "display_data",
          "data": {
            "text/plain": [
              "<Figure size 640x480 with 1 Axes>"
            ],
            "image/png": "[encoded data removed]"
          },
          "metadata": {}
        }
      ],
      "source": [
        "index = 23\n",
        "plt.imshow(train_set_x_orig[index])\n",
        "print(\"y = \" + str(train_set_y[:, index]) + \", it's a '\" + classes[np.squeeze(train_set_y[:, index])] + \"' picture.\")"
      ]
    },
    {
      "cell_type": "code",
      "execution_count": null,
      "metadata": {
        "id": "IqfKQs09SeKk"
      },
      "outputs": [],
      "source": [
        "print(train_set_x_orig)\n",
        "x=train_set_x_orig/255\n",
        "print(x[0])\n",
        "print(x.shape)"
      ]
    },
    {
      "cell_type": "code",
      "execution_count": null,
      "metadata": {
        "colab": {
          "base_uri": "https://localhost:8080/"
        },
        "id": "f6PHk7smTZOz",
        "outputId": "9005ffc6-1376-4ad2-89f0-54176290fa2a"
      },
      "outputs": [
        {
          "output_type": "stream",
          "name": "stdout",
          "text": [
            "train_set_x_flatten shape: (12288, 838)\n",
            "train_set_y shape: (1, 838)\n",
            "test_set_x_flatten shape: (12288, 369)\n",
            "test_set_y shape: (1, 369)\n",
            "sanity check after reshaping: [149 143 121 149 143]\n"
          ]
        }
      ],
      "source": [
        "### START CODE HERE ### (≈ 2 lines of code)\n",
        "train_set_x_flatten = train_set_x_orig.reshape(train_set_x_orig.shape[0], -1).T\n",
        "test_set_x_flatten = test_set_x_orig.reshape(test_set_x_orig.shape[0], -1).T\n",
        "### END CODE HERE ###\n",
        "\n",
        "print (\"train_set_x_flatten shape: \" + str(train_set_x_flatten.shape))\n",
        "print (\"train_set_y shape: \" + str(train_set_y.shape))\n",
        "print (\"test_set_x_flatten shape: \" + str(test_set_x_flatten.shape))\n",
        "print (\"test_set_y shape: \" + str(test_set_y.shape))\n",
        "print (\"sanity check after reshaping: \" + str(train_set_x_flatten[0:5,0]))"
      ]
    },
    {
      "cell_type": "code",
      "execution_count": null,
      "metadata": {
        "id": "7jJUNoGBTd40"
      },
      "outputs": [],
      "source": [
        "train_set_x = train_set_x_flatten / 255.\n",
        "test_set_x = test_set_x_flatten / 255."
      ]
    },
    {
      "cell_type": "code",
      "source": [
        "train_set_x=train_set_x.T\n",
        "test_set_x=test_set_x.T\n"
      ],
      "metadata": {
        "id": "0-43EJtU_SVm"
      },
      "execution_count": null,
      "outputs": []
    },
    {
      "cell_type": "code",
      "source": [
        "print(train_set_x.shape)\n",
        "print(test_set_x.shape)"
      ],
      "metadata": {
        "colab": {
          "base_uri": "https://localhost:8080/"
        },
        "id": "sMcZr4YG_aoa",
        "outputId": "b4196424-402c-498f-9a54-c84585f60e4b"
      },
      "execution_count": null,
      "outputs": [
        {
          "output_type": "stream",
          "name": "stdout",
          "text": [
            "(838, 12288)\n",
            "(369, 12288)\n"
          ]
        }
      ]
    },
    {
      "cell_type": "code",
      "source": [
        "print(train_set_y.shape)\n",
        "print(train_set_x.shape)"
      ],
      "metadata": {
        "colab": {
          "base_uri": "https://localhost:8080/"
        },
        "id": "mB2NvFkf8raM",
        "outputId": "8d6352a6-c62f-4506-8c99-6077a3a93f4e"
      },
      "execution_count": null,
      "outputs": [
        {
          "output_type": "stream",
          "name": "stdout",
          "text": [
            "(1, 838)\n",
            "(12288, 838)\n"
          ]
        }
      ]
    },
    {
      "cell_type": "code",
      "source": [
        "train_set_y= train_set_y.reshape((1, train_set_y.shape[0]))\n",
        "test_set_y= test_set_y.reshape((1,test_set_y.shape[0]))"
      ],
      "metadata": {
        "colab": {
          "base_uri": "https://localhost:8080/",
          "height": 158
        },
        "id": "KKJULXQR8nn8",
        "outputId": "04bc43ca-a854-4c45-9d09-3733fa8ba652"
      },
      "execution_count": null,
      "outputs": [
        {
          "output_type": "error",
          "ename": "ValueError",
          "evalue": "cannot reshape array of size 838 into shape (1,1)",
          "traceback": [
            "\u001b[0;31m---------------------------------------------------------------------------\u001b[0m",
            "\u001b[0;31mValueError\u001b[0m                                Traceback (most recent call last)",
            "\u001b[0;32m<ipython-input-38-4110c45aeed4>\u001b[0m in \u001b[0;36m<cell line: 1>\u001b[0;34m()\u001b[0m\n\u001b[0;32m----> 1\u001b[0;31m \u001b[0mtrain_set_y\u001b[0m\u001b[0;34m=\u001b[0m \u001b[0mtrain_set_y\u001b[0m\u001b[0;34m.\u001b[0m\u001b[0mreshape\u001b[0m\u001b[0;34m(\u001b[0m\u001b[0;34m(\u001b[0m\u001b[0;36m1\u001b[0m\u001b[0;34m,\u001b[0m \u001b[0mtrain_set_y\u001b[0m\u001b[0;34m.\u001b[0m\u001b[0mshape\u001b[0m\u001b[0;34m[\u001b[0m\u001b[0;36m0\u001b[0m\u001b[0;34m]\u001b[0m\u001b[0;34m)\u001b[0m\u001b[0;34m)\u001b[0m\u001b[0;34m\u001b[0m\u001b[0;34m\u001b[0m\u001b[0m\n\u001b[0m\u001b[1;32m      2\u001b[0m \u001b[0mtest_set_y\u001b[0m\u001b[0;34m=\u001b[0m \u001b[0mtest_set_y\u001b[0m\u001b[0;34m.\u001b[0m\u001b[0mreshape\u001b[0m\u001b[0;34m(\u001b[0m\u001b[0;34m(\u001b[0m\u001b[0;36m1\u001b[0m\u001b[0;34m,\u001b[0m\u001b[0mtest_set_y\u001b[0m\u001b[0;34m.\u001b[0m\u001b[0mshape\u001b[0m\u001b[0;34m[\u001b[0m\u001b[0;36m0\u001b[0m\u001b[0;34m]\u001b[0m\u001b[0;34m)\u001b[0m\u001b[0;34m)\u001b[0m\u001b[0;34m\u001b[0m\u001b[0;34m\u001b[0m\u001b[0m\n",
            "\u001b[0;31mValueError\u001b[0m: cannot reshape array of size 838 into shape (1,1)"
          ]
        }
      ]
    },
    {
      "cell_type": "code",
      "execution_count": null,
      "metadata": {
        "colab": {
          "base_uri": "https://localhost:8080/",
          "height": 472
        },
        "id": "Dsu9ELBKTitf",
        "outputId": "ea1a3e19-23ab-490b-f715-a2557d9debcd"
      },
      "outputs": [
        {
          "name": "stdout",
          "output_type": "stream",
          "text": [
            "[12288, 20, 10, 10, 1]\n"
          ]
        },
        {
          "name": "stderr",
          "output_type": "stream",
          "text": [
            "  0%|          | 2/1000 [00:00<03:00,  5.52it/s]<ipython-input-10-b607c5b0419a>:13: RuntimeWarning: invalid value encountered in multiply\n",
            "  dZ = np.dot(parametres['W' + str(c)].T, dZ) * activations['A' + str(c - 1)] * (1 - activations['A' + str(c - 1)])\n",
            "<ipython-input-10-b607c5b0419a>:13: RuntimeWarning: overflow encountered in multiply\n",
            "  dZ = np.dot(parametres['W' + str(c)].T, dZ) * activations['A' + str(c - 1)] * (1 - activations['A' + str(c - 1)])\n",
            "100%|██████████| 1000/1000 [03:17<00:00,  5.07it/s]\n"
          ]
        },
        {
          "data": {
            "image/png": "[encoded data removed]",
            "text/plain": [
              "<Figure size 1200x400 with 2 Axes>"
            ]
          },
          "metadata": {},
          "output_type": "display_data"
        }
      ],
      "source": [
        "h,p=deep_neural_network(train_set_x, train_set_y,test_set_x,test_set_y, hidden_layers = (20, 10, 10), learning_rate = 0.001, n_iter = 1000)"
      ]
    },
    {
      "cell_type": "code",
      "execution_count": null,
      "metadata": {
        "colab": {
          "base_uri": "https://localhost:8080/"
        },
        "id": "aTpngp0WfDzg",
        "outputId": "97a667e1-6db9-42af-a203-af29245d75bd"
      },
      "outputs": [
        {
          "name": "stdout",
          "output_type": "stream",
          "text": [
            "0.6720867208672087\n"
          ]
        }
      ],
      "source": [
        "print(h[499][3])"
      ]
    },
    {
      "cell_type": "code",
      "execution_count": null,
      "metadata": {
        "colab": {
          "base_uri": "https://localhost:8080/"
        },
        "id": "e6Erj081dtKo",
        "outputId": "359104a6-4c14-458a-fe83-2b5bacc4383f"
      },
      "outputs": [
        {
          "output_type": "stream",
          "name": "stdout",
          "text": [
            "Number of training examples: m_train = 838\n",
            "Number of testing examples: m_test = 369\n",
            "Height/Width of each image: num_px = 64\n",
            "Each image is of size: (64, 64, 3)\n",
            "train_set_x shape: (838, 64, 64, 3)\n",
            "train_set_y shape: (1, 838)\n",
            "test_set_x shape: (369, 64, 64, 3)\n",
            "test_set_y shape: (1, 369)\n"
          ]
        }
      ],
      "source": [
        "### START CODE HERE ### (≈ 3 lines of code)\n",
        "m_train = train_set_y.shape[1]\n",
        "m_test = test_set_y.shape[1]\n",
        "num_px = train_set_x_orig.shape[1]\n",
        "### END CODE HERE ###\n",
        "\n",
        "num_px = train_set_x_orig.shape[1]\n",
        "\n",
        "print(\"Number of training examples: m_train = \" + str(m_train))\n",
        "print(\"Number of testing examples: m_test = \" + str(m_test))\n",
        "print(\"Height/Width of each image: num_px = \" + str(num_px))\n",
        "print(\"Each image is of size: (\" + str(num_px) + \", \" + str(num_px) + \", 3)\")\n",
        "print(\"train_set_x shape: \" + str(train_set_x_orig.shape))\n",
        "print(\"train_set_y shape: \" + str(train_set_y.shape))\n",
        "print(\"test_set_x shape: \" + str(test_set_x_orig.shape))\n",
        "print(\"test_set_y shape: \" + str(test_set_y.shape))\n"
      ]
    },
    {
      "cell_type": "code",
      "execution_count": null,
      "metadata": {
        "colab": {
          "base_uri": "https://localhost:8080/"
        },
        "id": "jqzIix7hddHn",
        "outputId": "740d2985-12f5-48a0-82c0-acfee918023b"
      },
      "outputs": [
        {
          "output_type": "stream",
          "name": "stdout",
          "text": [
            "Requirement already satisfied: Pillow in /usr/local/lib/python3.10/dist-packages (9.4.0)\n"
          ]
        }
      ],
      "source": [
        "my_image = \"/content/drive/MyDrive/Data/train/0_01A8L6NM3RLG.jpg\"  # change this to the name of your image file\n",
        "!pip install Pillow"
      ]
    },
    {
      "cell_type": "code",
      "execution_count": null,
      "metadata": {
        "colab": {
          "base_uri": "https://localhost:8080/",
          "height": 211
        },
        "id": "4S7Nui_OcuR1",
        "outputId": "09c616e0-ba2a-44a5-deea-93f57ebafd21"
      },
      "outputs": [
        {
          "output_type": "error",
          "ename": "NameError",
          "evalue": "name 'predict' is not defined",
          "traceback": [
            "\u001b[0;31m---------------------------------------------------------------------------\u001b[0m",
            "\u001b[0;31mNameError\u001b[0m                                 Traceback (most recent call last)",
            "\u001b[0;32m<ipython-input-35-18727f959931>\u001b[0m in \u001b[0;36m<cell line: 11>\u001b[0;34m()\u001b[0m\n\u001b[1;32m      9\u001b[0m \u001b[0;34m\u001b[0m\u001b[0m\n\u001b[1;32m     10\u001b[0m \u001b[0;31m# Assuming predict is a function you've defined and d is a dictionary containing your model parameters\u001b[0m\u001b[0;34m\u001b[0m\u001b[0;34m\u001b[0m\u001b[0m\n\u001b[0;32m---> 11\u001b[0;31m \u001b[0mmy_predicted_image\u001b[0m \u001b[0;34m=\u001b[0m \u001b[0mpredict\u001b[0m\u001b[0;34m(\u001b[0m\u001b[0mmy_image\u001b[0m\u001b[0;34m,\u001b[0m \u001b[0mp\u001b[0m\u001b[0;34m)\u001b[0m\u001b[0;34m\u001b[0m\u001b[0;34m\u001b[0m\u001b[0m\n\u001b[0m\u001b[1;32m     12\u001b[0m \u001b[0;34m\u001b[0m\u001b[0m\n\u001b[1;32m     13\u001b[0m \u001b[0mplt\u001b[0m\u001b[0;34m.\u001b[0m\u001b[0mimshow\u001b[0m\u001b[0;34m(\u001b[0m\u001b[0mimage_array\u001b[0m\u001b[0;34m)\u001b[0m\u001b[0;34m\u001b[0m\u001b[0;34m\u001b[0m\u001b[0m\n",
            "\u001b[0;31mNameError\u001b[0m: name 'predict' is not defined"
          ]
        }
      ],
      "source": [
        "from PIL import Image\n",
        "fname = my_image\n",
        "image = Image.open(fname)\n",
        "image = image.resize((num_px, num_px))\n",
        "image_array = np.array(image)\n",
        "\n",
        "# Reshape and standardize the image\n",
        "my_image = image_array.reshape((1, num_px * num_px * 3)).T\n",
        "\n",
        "# Assuming predict is a function you've defined and d is a dictionary containing your model parameters\n",
        "my_predicted_image = predict(my_image, p)\n",
        "\n",
        "plt.imshow(image_array)\n",
        "print(\"y = \" + str(np.squeeze(my_predicted_image)) + \", your algorithm predicts a \\\"\" + classes[int(np.squeeze(my_predicted_image))] + \"\\\" picture.\")"
      ]
    },
    {
      "cell_type": "code",
      "source": [
        "train_set_x.shape"
      ],
      "metadata": {
        "colab": {
          "base_uri": "https://localhost:8080/"
        },
        "id": "kgmih3sx-YwH",
        "outputId": "f7d6c3d6-39ee-4579-e994-0df944136c4f"
      },
      "execution_count": null,
      "outputs": [
        {
          "output_type": "execute_result",
          "data": {
            "text/plain": [
              "(838, 64, 64, 3)"
            ]
          },
          "metadata": {},
          "execution_count": 57
        }
      ]
    },
    {
      "cell_type": "code",
      "source": [
        "train_set_y=train_set_y.T"
      ],
      "metadata": {
        "id": "n-ZWP788A0jt"
      },
      "execution_count": null,
      "outputs": []
    },
    {
      "cell_type": "code",
      "source": [
        "train_set_y.shape"
      ],
      "metadata": {
        "colab": {
          "base_uri": "https://localhost:8080/"
        },
        "id": "9ECZXhPPBC89",
        "outputId": "052249cd-546f-41e2-8d42-8be71c4804f1"
      },
      "execution_count": null,
      "outputs": [
        {
          "output_type": "execute_result",
          "data": {
            "text/plain": [
              "(838, 1)"
            ]
          },
          "metadata": {},
          "execution_count": 54
        }
      ]
    },
    {
      "cell_type": "markdown",
      "source": [
        "# tensorflow\n"
      ],
      "metadata": {
        "id": "FsoReLnJy01B"
      }
    },
    {
      "cell_type": "code",
      "source": [
        "import tensorflow as tf\n",
        "from tensorflow import keras\n",
        "import matplotlib.pyplot as plt\n",
        "%matplotlib inline\n",
        "import numpy as np"
      ],
      "metadata": {
        "id": "tNJE0kCeAvaf"
      },
      "execution_count": null,
      "outputs": []
    },
    {
      "cell_type": "code",
      "source": [
        "(X_train, y_train) , (X_test, y_test) = keras.datasets.mnist.load_data()"
      ],
      "metadata": {
        "colab": {
          "base_uri": "https://localhost:8080/"
        },
        "id": "2bInz3Oky5v7",
        "outputId": "3c7a8760-289d-4cfa-e8f6-9c6eeb236e67"
      },
      "execution_count": null,
      "outputs": [
        {
          "output_type": "stream",
          "name": "stdout",
          "text": [
            "Downloading data from https://storage.googleapis.com/tensorflow/tf-keras-datasets/mnist.npz\n",
            "11490434/11490434 [==============================] - 0s 0us/step\n"
          ]
        }
      ]
    },
    {
      "cell_type": "code",
      "source": [
        "print(X_train.shape)\n",
        "print(X_test.shape)"
      ],
      "metadata": {
        "colab": {
          "base_uri": "https://localhost:8080/"
        },
        "id": "SJ3MUcVRzFJz",
        "outputId": "975bdd23-9d8f-4940-fc5e-bd7c326635f7"
      },
      "execution_count": null,
      "outputs": [
        {
          "output_type": "stream",
          "name": "stdout",
          "text": [
            "(60000, 28, 28)\n",
            "(10000, 28, 28)\n"
          ]
        }
      ]
    },
    {
      "cell_type": "code",
      "source": [
        "X_train = X_train / 255\n",
        "X_test = X_test / 255"
      ],
      "metadata": {
        "id": "Iruhdi40za0H"
      },
      "execution_count": null,
      "outputs": []
    },
    {
      "cell_type": "code",
      "source": [
        "X_train_flattened = X_train.reshape(len(X_train), 28*28)\n",
        "X_test_flattened = X_test.reshape(len(X_test), 28*28)"
      ],
      "metadata": {
        "id": "awwORkKdzhP7"
      },
      "execution_count": null,
      "outputs": []
    },
    {
      "cell_type": "code",
      "source": [
        "print(X_train_flattened.shape)\n",
        "print(X_test_flattened.shape)\n",
        "print(y_train.shape)\n",
        "print(y_test.shape)"
      ],
      "metadata": {
        "colab": {
          "base_uri": "https://localhost:8080/"
        },
        "id": "UTS7RU5hzmju",
        "outputId": "096d3136-0a54-4853-c412-368946d8754c"
      },
      "execution_count": null,
      "outputs": [
        {
          "output_type": "stream",
          "name": "stdout",
          "text": [
            "(60000, 784)\n",
            "(10000, 784)\n",
            "(60000,)\n",
            "(10000,)\n"
          ]
        }
      ]
    },
    {
      "cell_type": "code",
      "source": [
        "model = keras.Sequential([\n",
        "    keras.layers.Dense(10, input_shape=(784,), activation='sigmoid')\n",
        "])\n",
        "\n",
        "model.compile(optimizer='adam',\n",
        "              loss='sparse_categorical_crossentropy',\n",
        "              metrics=['accuracy'])\n",
        "\n",
        "model.fit(X_train_flattened, y_train, epochs=5)"
      ],
      "metadata": {
        "colab": {
          "base_uri": "https://localhost:8080/"
        },
        "id": "EgBnQszq0KZE",
        "outputId": "882f4dff-20a8-43ac-e6f1-5835951f3d26"
      },
      "execution_count": null,
      "outputs": [
        {
          "output_type": "stream",
          "name": "stdout",
          "text": [
            "Epoch 1/5\n",
            "1875/1875 [==============================] - 4s 2ms/step - loss: 0.4680 - accuracy: 0.8771\n",
            "Epoch 2/5\n",
            "1875/1875 [==============================] - 3s 2ms/step - loss: 0.3037 - accuracy: 0.9147\n",
            "Epoch 3/5\n",
            "1875/1875 [==============================] - 4s 2ms/step - loss: 0.2836 - accuracy: 0.9214\n",
            "Epoch 4/5\n",
            "1875/1875 [==============================] - 6s 3ms/step - loss: 0.2732 - accuracy: 0.9243\n",
            "Epoch 5/5\n",
            "1875/1875 [==============================] - 3s 2ms/step - loss: 0.2666 - accuracy: 0.9258\n"
          ]
        },
        {
          "output_type": "execute_result",
          "data": {
            "text/plain": [
              "<keras.src.callbacks.History at 0x7b7a8d00e6b0>"
            ]
          },
          "metadata": {},
          "execution_count": 8
        }
      ]
    },
    {
      "cell_type": "markdown",
      "source": [
        "# tensorflow lel cat and dog"
      ],
      "metadata": {
        "id": "PM63LT8g02OA"
      }
    },
    {
      "cell_type": "code",
      "source": [
        "print(train_set_x_orig.shape)\n",
        "print(test_set_x_orig.shape)\n",
        "print(train_set_y.shape)\n",
        "print(test_set_y.shape)"
      ],
      "metadata": {
        "colab": {
          "base_uri": "https://localhost:8080/"
        },
        "id": "HLUUw79M01n0",
        "outputId": "dcd8d147-90ae-44c2-d370-0d9bcfd41ead"
      },
      "execution_count": null,
      "outputs": [
        {
          "output_type": "stream",
          "name": "stdout",
          "text": [
            "(838, 64, 64, 3)\n",
            "(369, 64, 64, 3)\n",
            "(838,)\n",
            "(369,)\n"
          ]
        }
      ]
    },
    {
      "cell_type": "code",
      "source": [
        "train_set_x_orig =train_set_x_orig / 255\n",
        "test_set_x_orig =test_set_x_orig / 255"
      ],
      "metadata": {
        "id": "MmxDJBA22dn4"
      },
      "execution_count": null,
      "outputs": []
    },
    {
      "cell_type": "code",
      "source": [],
      "metadata": {
        "id": "xw4e48uK3E35"
      },
      "execution_count": null,
      "outputs": []
    },
    {
      "cell_type": "code",
      "source": [
        "X_train_flattened = train_set_x_orig.reshape(len(train_set_x_orig), 64*64*3)\n",
        "X_test_flattened = test_set_x_orig.reshape(len(test_set_x_orig), 64*64*3)"
      ],
      "metadata": {
        "id": "0LtDQ2Fu2qO_"
      },
      "execution_count": null,
      "outputs": []
    },
    {
      "cell_type": "code",
      "source": [
        "print(X_train_flattened.shape)\n",
        "print(X_test_flattened.shape)\n",
        "print(train_set_y.shape)\n",
        "print(test_set_y.shape)"
      ],
      "metadata": {
        "colab": {
          "base_uri": "https://localhost:8080/"
        },
        "id": "_gLMP1ie3If4",
        "outputId": "491829ba-3a9a-4fc6-953d-0d67b3c40bac"
      },
      "execution_count": null,
      "outputs": [
        {
          "output_type": "stream",
          "name": "stdout",
          "text": [
            "(838, 12288)\n",
            "(369, 12288)\n",
            "(838,)\n",
            "(369,)\n"
          ]
        }
      ]
    },
    {
      "cell_type": "code",
      "source": [
        "model = keras.Sequential([\n",
        "    keras.layers.Dense(25, input_shape=(12288,), activation='relu'),\n",
        "    keras.layers.Dense(42, activation='relu'),\n",
        "    keras.layers.Dense(26, activation='relu'),\n",
        "    keras.layers.Dense(1, activation='sigmoid')\n",
        "])\n",
        "\n",
        "model.compile(optimizer='adam',\n",
        "              loss='binary_crossentropy',\n",
        "              metrics=['accuracy'])\n",
        "\n",
        "model.fit(X_train_flattened, train_set_y, epochs=20)"
      ],
      "metadata": {
        "colab": {
          "base_uri": "https://localhost:8080/"
        },
        "id": "w25KeoNr5iF6",
        "outputId": "2eafd87a-642a-4bdc-8056-02952dcb1613"
      },
      "execution_count": null,
      "outputs": [
        {
          "output_type": "stream",
          "name": "stdout",
          "text": [
            "Epoch 1/20\n",
            "27/27 [==============================] - 3s 18ms/step - loss: 0.6942 - accuracy: 0.5895\n",
            "Epoch 2/20\n",
            "27/27 [==============================] - 0s 16ms/step - loss: 0.6099 - accuracy: 0.6671\n",
            "Epoch 3/20\n",
            "27/27 [==============================] - 0s 13ms/step - loss: 0.4747 - accuracy: 0.7924\n",
            "Epoch 4/20\n",
            "27/27 [==============================] - 0s 13ms/step - loss: 0.4892 - accuracy: 0.7625\n",
            "Epoch 5/20\n",
            "27/27 [==============================] - 0s 14ms/step - loss: 0.4129 - accuracy: 0.8258\n",
            "Epoch 6/20\n",
            "27/27 [==============================] - 0s 13ms/step - loss: 0.4570 - accuracy: 0.7876\n",
            "Epoch 7/20\n",
            "27/27 [==============================] - 0s 11ms/step - loss: 0.3848 - accuracy: 0.8389\n",
            "Epoch 8/20\n",
            "27/27 [==============================] - 0s 7ms/step - loss: 0.3773 - accuracy: 0.8353\n",
            "Epoch 9/20\n",
            "27/27 [==============================] - 0s 7ms/step - loss: 0.3575 - accuracy: 0.8484\n",
            "Epoch 10/20\n",
            "27/27 [==============================] - 0s 7ms/step - loss: 0.3394 - accuracy: 0.8461\n",
            "Epoch 11/20\n",
            "27/27 [==============================] - 0s 8ms/step - loss: 0.2876 - accuracy: 0.8878\n",
            "Epoch 12/20\n",
            "27/27 [==============================] - 0s 7ms/step - loss: 0.2866 - accuracy: 0.8795\n",
            "Epoch 13/20\n",
            "27/27 [==============================] - 0s 7ms/step - loss: 0.4043 - accuracy: 0.8198\n",
            "Epoch 14/20\n",
            "27/27 [==============================] - 0s 7ms/step - loss: 0.2977 - accuracy: 0.8807\n",
            "Epoch 15/20\n",
            "27/27 [==============================] - 0s 7ms/step - loss: 0.3195 - accuracy: 0.8687\n",
            "Epoch 16/20\n",
            "27/27 [==============================] - 0s 8ms/step - loss: 0.2710 - accuracy: 0.8890\n",
            "Epoch 17/20\n",
            "27/27 [==============================] - 0s 8ms/step - loss: 0.2538 - accuracy: 0.9010\n",
            "Epoch 18/20\n",
            "27/27 [==============================] - 0s 7ms/step - loss: 0.2618 - accuracy: 0.8914\n",
            "Epoch 19/20\n",
            "27/27 [==============================] - 0s 7ms/step - loss: 0.2635 - accuracy: 0.8902\n",
            "Epoch 20/20\n",
            "27/27 [==============================] - 0s 7ms/step - loss: 0.2225 - accuracy: 0.9117\n"
          ]
        },
        {
          "output_type": "execute_result",
          "data": {
            "text/plain": [
              "<keras.src.callbacks.History at 0x7b7a51f723b0>"
            ]
          },
          "metadata": {},
          "execution_count": 36
        }
      ]
    },
    {
      "cell_type": "code",
      "source": [
        "model.evaluate(X_test_flattened, test_set_y)"
      ],
      "metadata": {
        "colab": {
          "base_uri": "https://localhost:8080/"
        },
        "id": "sdyeiUaI6mrX",
        "outputId": "d36fbf8c-f2db-473c-c03d-058713069051"
      },
      "execution_count": null,
      "outputs": [
        {
          "output_type": "stream",
          "name": "stdout",
          "text": [
            "12/12 [==============================] - 0s 4ms/step - loss: 0.3792 - accuracy: 0.8537\n"
          ]
        },
        {
          "output_type": "execute_result",
          "data": {
            "text/plain": [
              "[0.3792089819908142, 0.8536585569381714]"
            ]
          },
          "metadata": {},
          "execution_count": 37
        }
      ]
    }
  ],
  "metadata": {
    "colab": {
      "provenance": [],
      "authorship_tag": "ABX9TyMyHnlaBKVBoE969B+0Zd9g",
      "include_colab_link": true
    },
    "kernelspec": {
      "display_name": "Python 3",
      "name": "python3"
    },
    "language_info": {
      "name": "python"
    }
  },
  "nbformat": 4,
  "nbformat_minor": 0
}